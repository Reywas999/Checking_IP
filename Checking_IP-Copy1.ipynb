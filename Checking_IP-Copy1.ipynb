{
 "cells": [
  {
   "cell_type": "code",
   "execution_count": 24,
   "id": "0b122de2",
   "metadata": {},
   "outputs": [],
   "source": [
    "# Necessary Imports\n",
    "import requests\n",
    "import csv\n",
    "import datetime\n",
    "import os.path"
   ]
  },
  {
   "cell_type": "code",
   "execution_count": 25,
   "id": "723ba922",
   "metadata": {},
   "outputs": [],
   "source": [
    "# Setting Phone number, API, and URL for Whatsapp chatbot\n",
    "phone_num = 'YOUR_PHONE_NUMBER'\n",
    "API_Key = \n",
    "\n",
    "url = \"https://api.callmebot.com/whatsapp.php?phone=whatsapp_number&text=your_message&apikey=KEY\"\n",
    "url = url.replace('KEY', str(API_Key))\n",
    "url = url.replace('whatsapp_number', phone_num)"
   ]
  },
  {
   "cell_type": "code",
   "execution_count": 29,
   "id": "caf6dc26",
   "metadata": {},
   "outputs": [],
   "source": [
    "def check_ip(): \n",
    "    # Set the URL for the API endpoint\n",
    "    ip_url = \"https://api.ipify.org\"\n",
    "\n",
    "    # Send a GET request to the API endpoint\n",
    "    response = requests.get(ip_url)\n",
    "\n",
    "    # Get the current IP address\n",
    "    ip_address = response.text\n",
    "\n",
    "    # Check if the CSV file exists\n",
    "    if os.path.isfile(\"ip_address.csv\"):\n",
    "        # Read the previous IP address from the CSV file\n",
    "        with open(\"ip_address.csv\", \"r\") as file:\n",
    "            reader = csv.reader(file)\n",
    "            row = next(reader)\n",
    "            previous_ip_address = row[0]\n",
    "    else:\n",
    "        # Set the previous IP address to None\n",
    "        previous_ip_address = None\n",
    "\n",
    "\n",
    "    # Check if the IP address matches the next day\n",
    "    if previous_ip_address is not None and ip_address == previous_ip_address:\n",
    "        pass\n",
    "    elif previous_ip_address is None:\n",
    "        with open(\"ip_address.csv\", \"w\", newline=\"\") as file:\n",
    "            writer = csv.writer(file)\n",
    "            writer.writerow([ip_address])\n",
    "    else:\n",
    "        message = f\"Your IP Address has changed to: %s\" % (ip_address) \n",
    "        final_url = url.replace(\"your_message\", message)\n",
    "        requests.get(final_url)\n",
    "        with open(\"ip_address.csv\", \"w\", newline=\"\") as file:\n",
    "            writer = csv.writer(file)\n",
    "            writer.writerow([ip_address])"
   ]
  },
  {
   "cell_type": "code",
   "execution_count": 33,
   "id": "3b9cb3b7",
   "metadata": {},
   "outputs": [],
   "source": [
    "check_ip()"
   ]
  },
  {
   "cell_type": "code",
   "execution_count": null,
   "id": "ad4a6bf0",
   "metadata": {},
   "outputs": [],
   "source": []
  }
 ],
 "metadata": {
  "kernelspec": {
   "display_name": "Python 3 (ipykernel)",
   "language": "python",
   "name": "python3"
  },
  "language_info": {
   "codemirror_mode": {
    "name": "ipython",
    "version": 3
   },
   "file_extension": ".py",
   "mimetype": "text/x-python",
   "name": "python",
   "nbconvert_exporter": "python",
   "pygments_lexer": "ipython3",
   "version": "3.11.5"
  }
 },
 "nbformat": 4,
 "nbformat_minor": 5
}
